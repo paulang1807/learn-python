{
 "cells": [
  {
   "cell_type": "code",
   "execution_count": 1,
   "metadata": {},
   "outputs": [],
   "source": [
    "import pandas as pd\n",
    "import numpy as np\n",
    "import sys\n",
    "from fastparquet import ParquetFile\n",
    "\n",
    "%matplotlib inline"
   ]
  },
  {
   "cell_type": "code",
   "execution_count": 2,
   "metadata": {},
   "outputs": [],
   "source": [
    "# DISPLAY SETTINGS\n",
    "pd.set_option(\"display.max.columns\", None)   # Display all columns\n",
    "pd.set_option(\"display.max.rows\", None)      # Display all rows\n",
    "pd.set_option(\"display.precision\", 2)        # Display 2 decimal places"
   ]
  },
  {
   "cell_type": "markdown",
   "metadata": {},
   "source": [
    "## Create"
   ]
  },
  {
   "cell_type": "code",
   "execution_count": null,
   "metadata": {},
   "outputs": [],
   "source": [
    "# From clipboard\n",
    "df = pd.read_clipboard()"
   ]
  },
  {
   "cell_type": "code",
   "execution_count": 3,
   "metadata": {},
   "outputs": [],
   "source": [
    "# From parquet file\n",
    "pf=ParquetFile('../data/address_latlon.parquet')\n",
    "df=pf.to_pandas()\n",
    "\n",
    "pf=ParquetFile('../data/purpleairdaily.parquet')\n",
    "df1=pf.to_pandas()\n",
    "\n",
    "pf=ParquetFile('../data/thingspeak.parquet')\n",
    "df2=pf.to_pandas()"
   ]
  },
  {
   "cell_type": "code",
   "execution_count": 8,
   "metadata": {},
   "outputs": [],
   "source": [
    "# https://www.kaggle.com/manasgarg/ipl/data?select=matches.csv\n",
    "df3 = pd.read_csv('../data/matches.csv', delimiter=',')"
   ]
  },
  {
   "cell_type": "code",
   "execution_count": null,
   "metadata": {},
   "outputs": [],
   "source": [
    "# Multiple files\n",
    "from glob import glob\n",
    "\n",
    "files = sorted(glob('data/*.csv'))\n",
    "pd.concat((pd.read_csv(file) for file in files), ignore_index=True)    # Row-wise concat\n",
    "pd.concat((pd.read_csv(file) for file in files), axis=1)    # Column-wise concat"
   ]
  },
  {
   "cell_type": "markdown",
   "metadata": {},
   "source": [
    "## Explore"
   ]
  },
  {
   "cell_type": "code",
   "execution_count": 4,
   "metadata": {},
   "outputs": [
    {
     "data": {
      "text/plain": [
       "(52321, 146017, 133199)"
      ]
     },
     "execution_count": 4,
     "metadata": {},
     "output_type": "execute_result"
    }
   ],
   "source": [
    "len(df), len(df1), len(df2)"
   ]
  },
  {
   "cell_type": "code",
   "execution_count": 5,
   "metadata": {},
   "outputs": [
    {
     "data": {
      "text/plain": [
       "((52321, 7), (146017, 16), (133199, 19))"
      ]
     },
     "execution_count": 5,
     "metadata": {},
     "output_type": "execute_result"
    }
   ],
   "source": [
    "df.shape, df1.shape, df2.shape"
   ]
  },
  {
   "cell_type": "code",
   "execution_count": 6,
   "metadata": {},
   "outputs": [
    {
     "data": {
      "text/html": [
       "<div>\n",
       "<style scoped>\n",
       "    .dataframe tbody tr th:only-of-type {\n",
       "        vertical-align: middle;\n",
       "    }\n",
       "\n",
       "    .dataframe tbody tr th {\n",
       "        vertical-align: top;\n",
       "    }\n",
       "\n",
       "    .dataframe thead th {\n",
       "        text-align: right;\n",
       "    }\n",
       "</style>\n",
       "<table border=\"1\" class=\"dataframe\">\n",
       "  <thead>\n",
       "    <tr style=\"text-align: right;\">\n",
       "      <th></th>\n",
       "      <th>city</th>\n",
       "      <th>country</th>\n",
       "      <th>county</th>\n",
       "      <th>lat</th>\n",
       "      <th>lon</th>\n",
       "      <th>state</th>\n",
       "      <th>zipcode</th>\n",
       "    </tr>\n",
       "  </thead>\n",
       "  <tbody>\n",
       "    <tr>\n",
       "      <th>0</th>\n",
       "      <td>Kardia</td>\n",
       "      <td>Greece</td>\n",
       "      <td>None</td>\n",
       "      <td>40.47</td>\n",
       "      <td>22.99</td>\n",
       "      <td>None</td>\n",
       "      <td>575 00</td>\n",
       "    </tr>\n",
       "    <tr>\n",
       "      <th>1</th>\n",
       "      <td>Thessaloniki</td>\n",
       "      <td>Greece</td>\n",
       "      <td>None</td>\n",
       "      <td>40.63</td>\n",
       "      <td>22.96</td>\n",
       "      <td>None</td>\n",
       "      <td>546 36</td>\n",
       "    </tr>\n",
       "  </tbody>\n",
       "</table>\n",
       "</div>"
      ],
      "text/plain": [
       "           city country county    lat    lon state zipcode\n",
       "0        Kardia  Greece   None  40.47  22.99  None  575 00\n",
       "1  Thessaloniki  Greece   None  40.63  22.96  None  546 36"
      ]
     },
     "execution_count": 6,
     "metadata": {},
     "output_type": "execute_result"
    }
   ],
   "source": [
    "df.head(2)"
   ]
  },
  {
   "cell_type": "code",
   "execution_count": 7,
   "metadata": {},
   "outputs": [
    {
     "data": {
      "text/html": [
       "<div>\n",
       "<style scoped>\n",
       "    .dataframe tbody tr th:only-of-type {\n",
       "        vertical-align: middle;\n",
       "    }\n",
       "\n",
       "    .dataframe tbody tr th {\n",
       "        vertical-align: top;\n",
       "    }\n",
       "\n",
       "    .dataframe thead th {\n",
       "        text-align: right;\n",
       "    }\n",
       "</style>\n",
       "<table border=\"1\" class=\"dataframe\">\n",
       "  <thead>\n",
       "    <tr style=\"text-align: right;\">\n",
       "      <th></th>\n",
       "      <th>a_h</th>\n",
       "      <th>device_loc_typ</th>\n",
       "      <th>high_reading_flag</th>\n",
       "      <th>hidden</th>\n",
       "      <th>sensor_id</th>\n",
       "      <th>sensor_name</th>\n",
       "      <th>lat</th>\n",
       "      <th>lon</th>\n",
       "      <th>parent_id</th>\n",
       "      <th>thingspeak_primary_id</th>\n",
       "      <th>thingspeak_primary_id_read_key</th>\n",
       "      <th>thingspeak_secondary_id</th>\n",
       "      <th>thingspeak_secondary_id_read_key</th>\n",
       "      <th>is_owner</th>\n",
       "      <th>datetime</th>\n",
       "      <th>sensorhash</th>\n",
       "    </tr>\n",
       "    <tr>\n",
       "      <th>index</th>\n",
       "      <th></th>\n",
       "      <th></th>\n",
       "      <th></th>\n",
       "      <th></th>\n",
       "      <th></th>\n",
       "      <th></th>\n",
       "      <th></th>\n",
       "      <th></th>\n",
       "      <th></th>\n",
       "      <th></th>\n",
       "      <th></th>\n",
       "      <th></th>\n",
       "      <th></th>\n",
       "      <th></th>\n",
       "      <th></th>\n",
       "      <th></th>\n",
       "    </tr>\n",
       "  </thead>\n",
       "  <tbody>\n",
       "    <tr>\n",
       "      <th>289988</th>\n",
       "      <td>None</td>\n",
       "      <td>outside</td>\n",
       "      <td>NaN</td>\n",
       "      <td>false</td>\n",
       "      <td>24263</td>\n",
       "      <td>York Street</td>\n",
       "      <td>37.76</td>\n",
       "      <td>-122.41</td>\n",
       "      <td>NaN</td>\n",
       "      <td>673176</td>\n",
       "      <td>RVZS1D4CT4BOVW5L</td>\n",
       "      <td>673177</td>\n",
       "      <td>SRRW1CGPGXVGG6EN</td>\n",
       "      <td>0</td>\n",
       "      <td>201910272350</td>\n",
       "      <td>-5674343839165473289</td>\n",
       "    </tr>\n",
       "    <tr>\n",
       "      <th>289989</th>\n",
       "      <td>None</td>\n",
       "      <td>None</td>\n",
       "      <td>NaN</td>\n",
       "      <td>false</td>\n",
       "      <td>24264</td>\n",
       "      <td>York Street B</td>\n",
       "      <td>37.76</td>\n",
       "      <td>-122.41</td>\n",
       "      <td>24263.0</td>\n",
       "      <td>673178</td>\n",
       "      <td>LLWW6QYUHO5WRUO6</td>\n",
       "      <td>673179</td>\n",
       "      <td>LMVVF3MD7BLRWY72</td>\n",
       "      <td>0</td>\n",
       "      <td>201910272350</td>\n",
       "      <td>6398966441932156567</td>\n",
       "    </tr>\n",
       "  </tbody>\n",
       "</table>\n",
       "</div>"
      ],
      "text/plain": [
       "         a_h device_loc_typ  high_reading_flag hidden  sensor_id  \\\n",
       "index                                                              \n",
       "289988  None        outside                NaN  false      24263   \n",
       "289989  None           None                NaN  false      24264   \n",
       "\n",
       "          sensor_name    lat     lon  parent_id thingspeak_primary_id  \\\n",
       "index                                                                   \n",
       "289988    York Street  37.76 -122.41        NaN                673176   \n",
       "289989  York Street B  37.76 -122.41    24263.0                673178   \n",
       "\n",
       "       thingspeak_primary_id_read_key thingspeak_secondary_id  \\\n",
       "index                                                           \n",
       "289988               RVZS1D4CT4BOVW5L                  673177   \n",
       "289989               LLWW6QYUHO5WRUO6                  673179   \n",
       "\n",
       "       thingspeak_secondary_id_read_key  is_owner      datetime  \\\n",
       "index                                                             \n",
       "289988                 SRRW1CGPGXVGG6EN         0  201910272350   \n",
       "289989                 LMVVF3MD7BLRWY72         0  201910272350   \n",
       "\n",
       "                 sensorhash  \n",
       "index                        \n",
       "289988 -5674343839165473289  \n",
       "289989  6398966441932156567  "
      ]
     },
     "execution_count": 7,
     "metadata": {},
     "output_type": "execute_result"
    }
   ],
   "source": [
    "df1.tail(2)"
   ]
  },
  {
   "cell_type": "code",
   "execution_count": 8,
   "metadata": {},
   "outputs": [
    {
     "data": {
      "text/plain": [
       "index\n",
       "0    2019-10-27T00:00:00Z\n",
       "1    2019-10-27T00:10:00Z\n",
       "Name: created_at_x, dtype: object"
      ]
     },
     "execution_count": 8,
     "metadata": {},
     "output_type": "execute_result"
    }
   ],
   "source": [
    "# Display first few values of a specific column\n",
    "df2['created_at_x'].head(2)"
   ]
  },
  {
   "cell_type": "code",
   "execution_count": 9,
   "metadata": {},
   "outputs": [
    {
     "data": {
      "text/html": [
       "<div>\n",
       "<style scoped>\n",
       "    .dataframe tbody tr th:only-of-type {\n",
       "        vertical-align: middle;\n",
       "    }\n",
       "\n",
       "    .dataframe tbody tr th {\n",
       "        vertical-align: top;\n",
       "    }\n",
       "\n",
       "    .dataframe thead th {\n",
       "        text-align: right;\n",
       "    }\n",
       "</style>\n",
       "<table border=\"1\" class=\"dataframe\">\n",
       "  <thead>\n",
       "    <tr style=\"text-align: right;\">\n",
       "      <th></th>\n",
       "      <th>lat</th>\n",
       "      <th>lon</th>\n",
       "    </tr>\n",
       "  </thead>\n",
       "  <tbody>\n",
       "    <tr>\n",
       "      <th>count</th>\n",
       "      <td>52321.00</td>\n",
       "      <td>52321.00</td>\n",
       "    </tr>\n",
       "    <tr>\n",
       "      <th>mean</th>\n",
       "      <td>37.45</td>\n",
       "      <td>-117.08</td>\n",
       "    </tr>\n",
       "    <tr>\n",
       "      <th>std</th>\n",
       "      <td>5.48</td>\n",
       "      <td>26.74</td>\n",
       "    </tr>\n",
       "    <tr>\n",
       "      <th>min</th>\n",
       "      <td>-53.63</td>\n",
       "      <td>-161.77</td>\n",
       "    </tr>\n",
       "    <tr>\n",
       "      <th>25%</th>\n",
       "      <td>37.43</td>\n",
       "      <td>-122.38</td>\n",
       "    </tr>\n",
       "    <tr>\n",
       "      <th>50%</th>\n",
       "      <td>37.76</td>\n",
       "      <td>-122.20</td>\n",
       "    </tr>\n",
       "    <tr>\n",
       "      <th>75%</th>\n",
       "      <td>37.86</td>\n",
       "      <td>-122.05</td>\n",
       "    </tr>\n",
       "    <tr>\n",
       "      <th>max</th>\n",
       "      <td>71.30</td>\n",
       "      <td>178.30</td>\n",
       "    </tr>\n",
       "  </tbody>\n",
       "</table>\n",
       "</div>"
      ],
      "text/plain": [
       "            lat       lon\n",
       "count  52321.00  52321.00\n",
       "mean      37.45   -117.08\n",
       "std        5.48     26.74\n",
       "min      -53.63   -161.77\n",
       "25%       37.43   -122.38\n",
       "50%       37.76   -122.20\n",
       "75%       37.86   -122.05\n",
       "max       71.30    178.30"
      ]
     },
     "execution_count": 9,
     "metadata": {},
     "output_type": "execute_result"
    }
   ],
   "source": [
    "df.describe()   # Display stats only for numeric columns"
   ]
  },
  {
   "cell_type": "code",
   "execution_count": 10,
   "metadata": {},
   "outputs": [
    {
     "data": {
      "text/html": [
       "<div>\n",
       "<style scoped>\n",
       "    .dataframe tbody tr th:only-of-type {\n",
       "        vertical-align: middle;\n",
       "    }\n",
       "\n",
       "    .dataframe tbody tr th {\n",
       "        vertical-align: top;\n",
       "    }\n",
       "\n",
       "    .dataframe thead th {\n",
       "        text-align: right;\n",
       "    }\n",
       "</style>\n",
       "<table border=\"1\" class=\"dataframe\">\n",
       "  <thead>\n",
       "    <tr style=\"text-align: right;\">\n",
       "      <th></th>\n",
       "      <th>city</th>\n",
       "      <th>country</th>\n",
       "      <th>county</th>\n",
       "      <th>state</th>\n",
       "      <th>zipcode</th>\n",
       "    </tr>\n",
       "  </thead>\n",
       "  <tbody>\n",
       "    <tr>\n",
       "      <th>count</th>\n",
       "      <td>51961</td>\n",
       "      <td>52318</td>\n",
       "      <td>51775</td>\n",
       "      <td>52147</td>\n",
       "      <td>52080</td>\n",
       "    </tr>\n",
       "    <tr>\n",
       "      <th>unique</th>\n",
       "      <td>2206</td>\n",
       "      <td>107</td>\n",
       "      <td>921</td>\n",
       "      <td>319</td>\n",
       "      <td>3565</td>\n",
       "    </tr>\n",
       "    <tr>\n",
       "      <th>top</th>\n",
       "      <td></td>\n",
       "      <td></td>\n",
       "      <td></td>\n",
       "      <td></td>\n",
       "      <td></td>\n",
       "    </tr>\n",
       "    <tr>\n",
       "      <th>freq</th>\n",
       "      <td>39227</td>\n",
       "      <td>39227</td>\n",
       "      <td>39227</td>\n",
       "      <td>39227</td>\n",
       "      <td>39227</td>\n",
       "    </tr>\n",
       "  </tbody>\n",
       "</table>\n",
       "</div>"
      ],
      "text/plain": [
       "         city country county  state zipcode\n",
       "count   51961   52318  51775  52147   52080\n",
       "unique   2206     107    921    319    3565\n",
       "top                                        \n",
       "freq    39227   39227  39227  39227   39227"
      ]
     },
     "execution_count": 10,
     "metadata": {},
     "output_type": "execute_result"
    }
   ],
   "source": [
    "df.describe(include = np.object)   # Display descriptive stats for object columns"
   ]
  },
  {
   "cell_type": "code",
   "execution_count": 11,
   "metadata": {},
   "outputs": [
    {
     "name": "stdout",
     "output_type": "stream",
     "text": [
      "<class 'pandas.core.frame.DataFrame'>\n",
      "RangeIndex: 52321 entries, 0 to 52320\n",
      "Data columns (total 7 columns):\n",
      "city       51961 non-null object\n",
      "country    52318 non-null object\n",
      "county     51775 non-null object\n",
      "lat        52321 non-null float64\n",
      "lon        52321 non-null float64\n",
      "state      52147 non-null object\n",
      "zipcode    52080 non-null object\n",
      "dtypes: float64(2), object(5)\n",
      "memory usage: 2.8+ MB\n"
     ]
    }
   ],
   "source": [
    "df.info()"
   ]
  },
  {
   "cell_type": "code",
   "execution_count": 12,
   "metadata": {},
   "outputs": [
    {
     "data": {
      "text/plain": [
       "city        object\n",
       "country     object\n",
       "county      object\n",
       "lat        float64\n",
       "lon        float64\n",
       "state       object\n",
       "zipcode     object\n",
       "dtype: object"
      ]
     },
     "execution_count": 12,
     "metadata": {},
     "output_type": "execute_result"
    }
   ],
   "source": [
    "df.dtypes"
   ]
  },
  {
   "cell_type": "code",
   "execution_count": 13,
   "metadata": {},
   "outputs": [
    {
     "data": {
      "text/plain": [
       "city       360\n",
       "country      3\n",
       "county     546\n",
       "lat          0\n",
       "lon          0\n",
       "state      174\n",
       "zipcode    241\n",
       "dtype: int64"
      ]
     },
     "execution_count": 13,
     "metadata": {},
     "output_type": "execute_result"
    }
   ],
   "source": [
    "df.isnull().sum()    # Find nulls\n",
    "# df.isna().mean()"
   ]
  },
  {
   "cell_type": "code",
   "execution_count": 14,
   "metadata": {},
   "outputs": [
    {
     "data": {
      "text/plain": [
       "1324"
      ]
     },
     "execution_count": 14,
     "metadata": {},
     "output_type": "execute_result"
    }
   ],
   "source": [
    "df.isnull().sum().sum()   # Total nulls across all columns"
   ]
  },
  {
   "cell_type": "code",
   "execution_count": 15,
   "metadata": {},
   "outputs": [
    {
     "data": {
      "text/plain": [
       "Index(['created_at_x', '0_3um', '0_5um', '1_0um', '2_5um', '5_0um', '10_0um',\n",
       "       'pm1_0', 'pm10_0', 'sensorhash', 'created', 'pm1_0_atm', 'pm2_5_atm',\n",
       "       'pm10_0_atm', 'uptime', 'rssi', 'temperature', 'humidity',\n",
       "       'pm2_5_cf_1'],\n",
       "      dtype='object')"
      ]
     },
     "execution_count": 15,
     "metadata": {},
     "output_type": "execute_result"
    }
   ],
   "source": [
    "df2.columns"
   ]
  },
  {
   "cell_type": "code",
   "execution_count": 16,
   "metadata": {},
   "outputs": [
    {
     "data": {
      "text/plain": [
       "<matplotlib.axes._subplots.AxesSubplot at 0x1383c9b00>"
      ]
     },
     "execution_count": 16,
     "metadata": {},
     "output_type": "execute_result"
    },
    {
     "data": {
      "image/png": "[encoded data removed]",
      "text/plain": [
       "<Figure size 432x288 with 1 Axes>"
      ]
     },
     "metadata": {
      "needs_background": "light"
     },
     "output_type": "display_data"
    }
   ],
   "source": [
    "df['zipcode'][:10].hist()"
   ]
  },
  {
   "cell_type": "markdown",
   "metadata": {},
   "source": [
    "## Slice and Dice"
   ]
  },
  {
   "cell_type": "markdown",
   "metadata": {},
   "source": [
    "#### Subset of Columns by data type"
   ]
  },
  {
   "cell_type": "code",
   "execution_count": 17,
   "metadata": {},
   "outputs": [
    {
     "data": {
      "text/html": [
       "<div>\n",
       "<style scoped>\n",
       "    .dataframe tbody tr th:only-of-type {\n",
       "        vertical-align: middle;\n",
       "    }\n",
       "\n",
       "    .dataframe tbody tr th {\n",
       "        vertical-align: top;\n",
       "    }\n",
       "\n",
       "    .dataframe thead th {\n",
       "        text-align: right;\n",
       "    }\n",
       "</style>\n",
       "<table border=\"1\" class=\"dataframe\">\n",
       "  <thead>\n",
       "    <tr style=\"text-align: right;\">\n",
       "      <th></th>\n",
       "      <th>city</th>\n",
       "      <th>country</th>\n",
       "      <th>county</th>\n",
       "      <th>lat</th>\n",
       "      <th>lon</th>\n",
       "      <th>state</th>\n",
       "      <th>zipcode</th>\n",
       "    </tr>\n",
       "  </thead>\n",
       "  <tbody>\n",
       "    <tr>\n",
       "      <th>0</th>\n",
       "      <td>Kardia</td>\n",
       "      <td>Greece</td>\n",
       "      <td>None</td>\n",
       "      <td>40.47</td>\n",
       "      <td>22.99</td>\n",
       "      <td>None</td>\n",
       "      <td>575 00</td>\n",
       "    </tr>\n",
       "    <tr>\n",
       "      <th>1</th>\n",
       "      <td>Thessaloniki</td>\n",
       "      <td>Greece</td>\n",
       "      <td>None</td>\n",
       "      <td>40.63</td>\n",
       "      <td>22.96</td>\n",
       "      <td>None</td>\n",
       "      <td>546 36</td>\n",
       "    </tr>\n",
       "  </tbody>\n",
       "</table>\n",
       "</div>"
      ],
      "text/plain": [
       "           city country county    lat    lon state zipcode\n",
       "0        Kardia  Greece   None  40.47  22.99  None  575 00\n",
       "1  Thessaloniki  Greece   None  40.63  22.96  None  546 36"
      ]
     },
     "execution_count": 17,
     "metadata": {},
     "output_type": "execute_result"
    }
   ],
   "source": [
    "# df.select_dtypes(include = 'number').head()    # Numeric columns only\n",
    "# df.select_dtypes(include='object').head()      # Object columns only\n",
    "df.select_dtypes(include=['number', 'object']).head(2)    # Number and Object columns only"
   ]
  },
  {
   "cell_type": "code",
   "execution_count": 18,
   "metadata": {},
   "outputs": [
    {
     "data": {
      "text/html": [
       "<div>\n",
       "<style scoped>\n",
       "    .dataframe tbody tr th:only-of-type {\n",
       "        vertical-align: middle;\n",
       "    }\n",
       "\n",
       "    .dataframe tbody tr th {\n",
       "        vertical-align: top;\n",
       "    }\n",
       "\n",
       "    .dataframe thead th {\n",
       "        text-align: right;\n",
       "    }\n",
       "</style>\n",
       "<table border=\"1\" class=\"dataframe\">\n",
       "  <thead>\n",
       "    <tr style=\"text-align: right;\">\n",
       "      <th></th>\n",
       "      <th>lat</th>\n",
       "      <th>lon</th>\n",
       "    </tr>\n",
       "  </thead>\n",
       "  <tbody>\n",
       "    <tr>\n",
       "      <th>0</th>\n",
       "      <td>40.47</td>\n",
       "      <td>22.99</td>\n",
       "    </tr>\n",
       "    <tr>\n",
       "      <th>1</th>\n",
       "      <td>40.63</td>\n",
       "      <td>22.96</td>\n",
       "    </tr>\n",
       "  </tbody>\n",
       "</table>\n",
       "</div>"
      ],
      "text/plain": [
       "     lat    lon\n",
       "0  40.47  22.99\n",
       "1  40.63  22.96"
      ]
     },
     "execution_count": 18,
     "metadata": {},
     "output_type": "execute_result"
    }
   ],
   "source": [
    "df.select_dtypes(exclude='object').head(2)    # Exclude float columns"
   ]
  },
  {
   "cell_type": "code",
   "execution_count": 19,
   "metadata": {},
   "outputs": [],
   "source": [
    "# Subset by column name\n",
    "df1a = df1[['a_h', 'high_reading_flag', 'hidden', 'datetime', 'sensorhash']]\n",
    "df1 = df1[['device_loc_typ', 'is_owner', 'sensor_id', 'sensor_name',  'parent_id', 'lat', 'lon', 'thingspeak_primary_id', 'thingspeak_primary_id_read_key', 'thingspeak_secondary_id',\n",
    "                                          'thingspeak_secondary_id_read_key', 'sensorhash']]"
   ]
  },
  {
   "cell_type": "markdown",
   "metadata": {},
   "source": [
    "#### Dropping columns and values"
   ]
  },
  {
   "cell_type": "code",
   "execution_count": null,
   "metadata": {},
   "outputs": [],
   "source": [
    "# Drop rows if any NaN values are present\n",
    "df = df.dropna(axis = 0)\n",
    "# Drop columns if any NaN values are present\n",
    "df = df.dropna(axis = 1)\n",
    "# Drop columns in which more than 5% of values are missing\n",
    "df.dropna(thresh=len(df)*0.95, axis=1)"
   ]
  },
  {
   "cell_type": "code",
   "execution_count": null,
   "metadata": {},
   "outputs": [],
   "source": [
    "df.drop_duplicates(inplace=True)"
   ]
  },
  {
   "cell_type": "code",
   "execution_count": 20,
   "metadata": {},
   "outputs": [],
   "source": [
    "# Drop unwanted columns\n",
    "df2.drop(['pm2_5_cf_1', 'pm2_5_atm', 'pm10_0_atm'], axis = 1, inplace=True)"
   ]
  },
  {
   "cell_type": "markdown",
   "metadata": {},
   "source": [
    "## Transformations"
   ]
  },
  {
   "cell_type": "markdown",
   "metadata": {},
   "source": [
    "### Replacements"
   ]
  },
  {
   "cell_type": "code",
   "execution_count": null,
   "metadata": {},
   "outputs": [],
   "source": [
    "# Replace all NaN values\n",
    "df.fillna(value='Missing')\n",
    "\n",
    "# To replace NaN values with the values in the previous row.\n",
    "df.fillna(axis=0, method='ffill')\n",
    "\n",
    "# To replace NaN values with the values in the previous column.\n",
    "df.fillna(axis=1, method='ffill')\n",
    "\n",
    "# Replace with the values in the next row\n",
    "df.fillna(axis=0, method='bfill')\n",
    "\n",
    "# Replace with the values in the next column\n",
    "df.fillna(axis=1, method='bfill')"
   ]
  },
  {
   "cell_type": "code",
   "execution_count": 21,
   "metadata": {},
   "outputs": [],
   "source": [
    "# Replace string \"nan\" with np.nan\n",
    "df2[['0_3um', '0_5um', '1_0um', '2_5um', '5_0um', '10_0um', 'pm1_0','pm10_0', 'created', 'pm1_0_atm', 'uptime',\n",
    "               'rssi', 'temperature', 'humidity']] = df2[['0_3um', '0_5um', '1_0um', '2_5um', '5_0um', '10_0um', 'pm1_0',\n",
    "               'pm10_0', 'created', 'pm1_0_atm', 'uptime', 'rssi', 'temperature', 'humidity']].replace(\"nan\", np.nan, regex=True)"
   ]
  },
  {
   "cell_type": "code",
   "execution_count": null,
   "metadata": {},
   "outputs": [],
   "source": [
    "# To replace NaN values with the mean\n",
    "df2['0_3um'].fillna(value=df2['0_3um'].mean(), inplace=True)\n",
    "\n",
    "# replace with static values\n",
    "df3.replace(to_replace='Calcutta', value='Kolkata', inplace=True)"
   ]
  },
  {
   "cell_type": "markdown",
   "metadata": {},
   "source": [
    "#### Conversions"
   ]
  },
  {
   "cell_type": "code",
   "execution_count": null,
   "metadata": {},
   "outputs": [],
   "source": [
    "df2['0_5um'] = df2['0_5um'].astype(int)\n",
    "df2 = df2.astype({'0_5um': 'int'})    # use dictionary format { col: dtype }"
   ]
  },
  {
   "cell_type": "code",
   "execution_count": 23,
   "metadata": {},
   "outputs": [],
   "source": [
    "# use to_numeric to convert the strings with Invalid characters\n",
    "df2['2_5um'] = pd.to_numeric(df['2_5um'], errors='coerce')    # Single column\n",
    "# Multiple columns\n",
    "df2[['0_3um', '0_5um', '1_0um', '2_5um', '5_0um', '10_0um', 'pm1_0','pm10_0', 'created', 'pm1_0_atm', 'uptime',\n",
    "               'rssi', 'temperature', 'humidity']] = df2[['0_3um', '0_5um', '1_0um', '2_5um', '5_0um', '10_0um', 'pm1_0',\n",
    "               'pm10_0', 'created', 'pm1_0_atm', 'uptime', 'rssi', 'temperature', 'humidity']].apply(pd.to_numeric)\n",
    "\n",
    "df2[['high_reading_flag','sensor_id','parent_id', 'is_owner']] = df2[['high_reading_flag','sensor_id','parent_id', 'is_owner']].astype(str)"
   ]
  },
  {
   "cell_type": "code",
   "execution_count": null,
   "metadata": {},
   "outputs": [],
   "source": [
    "# Continuous to categorical\n",
    "df['AgeGroup']=pd.cut(\n",
    "    df['Age'], \n",
    "    bins=[0, 13, 19, 50, sys.maxsize], \n",
    "    labels=['<12', 'Teen', 'Adult', 'Old']\n",
    ")"
   ]
  },
  {
   "cell_type": "code",
   "execution_count": 14,
   "metadata": {},
   "outputs": [],
   "source": [
    "# Convert numeric column names into string values and move corresponding column values into a value column\n",
    "df3 = df3[['id','city','winner','win_by_runs','win_by_wickets']]\n",
    "df3 = df3.melt(id_vars=['id','city','winner'],var_name='WinStatTyp',value_name='WinStatVal')"
   ]
  },
  {
   "cell_type": "markdown",
   "metadata": {},
   "source": [
    "## Additions"
   ]
  },
  {
   "cell_type": "markdown",
   "metadata": {},
   "source": [
    "#### Merge"
   ]
  },
  {
   "cell_type": "code",
   "execution_count": 24,
   "metadata": {},
   "outputs": [],
   "source": [
    "df2 = pd.merge(df2, df1,  how='left', left_on=['sensorhash'], right_on=['sensorhash'])\n",
    "df2 = pd.merge(df2, df1a,  how='left', left_on=['sensorhash', 'created'], right_on=['sensorhash', 'datetime'])\n",
    "df2 = pd.merge(df2, df,  how='left', left_on=['lat','lon'], right_on=['lat','lon'])"
   ]
  },
  {
   "cell_type": "markdown",
   "metadata": {},
   "source": [
    "#### New columns"
   ]
  },
  {
   "cell_type": "code",
   "execution_count": null,
   "metadata": {},
   "outputs": [],
   "source": [
    "# From existing column\n",
    "ts_df['created_at'] = ts_df['created_at_x'].apply(lambda x: datetime.datetime.strptime(x,\"%Y-%m-%dT%H:%M:%SZ\").strftime(\"%Y/%m/%dT%H:%M\"))\n",
    "\n",
    "# Insert new col with static value at specified index\n",
    "df3.insert(2,'match','IPL')"
   ]
  },
  {
   "cell_type": "markdown",
   "metadata": {},
   "source": [
    "## Save"
   ]
  },
  {
   "cell_type": "code",
   "execution_count": null,
   "metadata": {},
   "outputs": [],
   "source": [
    "df.to_csv(sep=',',index=False)"
   ]
  }
 ],
 "metadata": {
  "kernelspec": {
   "display_name": "Python 3",
   "language": "python",
   "name": "python3"
  },
  "language_info": {
   "codemirror_mode": {
    "name": "ipython",
    "version": 3
   },
   "file_extension": ".py",
   "mimetype": "text/x-python",
   "name": "python",
   "nbconvert_exporter": "python",
   "pygments_lexer": "ipython3",
   "version": "3.6.8"
  }
 },
 "nbformat": 4,
 "nbformat_minor": 4
}
